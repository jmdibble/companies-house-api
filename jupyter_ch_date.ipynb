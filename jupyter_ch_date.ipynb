{
 "cells": [
  {
   "cell_type": "code",
   "execution_count": 66,
   "metadata": {
    "scrolled": true
   },
   "outputs": [
    {
     "name": "stdout",
     "output_type": "stream",
     "text": [
      "1371\n",
      "MUSE CARE LTD , 2018-09-21\n",
      "MUSE LONDON LTD , 2018-11-02\n",
      "MUD MUSE FILMS LTD , 2018-10-24\n",
      "MUSEFILM LTD , 2018-12-28\n",
      "MUSEUM MEWS RTM COMPANY LTD , 2018-09-24\n",
      "MUSEUM RETAIL LIMITED , 2018-11-22\n",
      "MUSEUM STREET CONSULTANCY LIMITED , 2018-11-28\n",
      "ART AND ANTIQUES MUSEUM , 2018-12-18\n",
      "EMMA'S COFFEE HOUSE AT THE MUSEUM LTD , 2018-11-19\n",
      "GEFFRYE MUSEUM ENTERPRISES LIMITED , 2018-11-20\n"
     ]
    },
    {
     "ename": "JSONDecodeError",
     "evalue": "Expecting value: line 1 column 1 (char 0)",
     "output_type": "error",
     "traceback": [
      "\u001b[1;31m---------------------------------------------------------------------------\u001b[0m",
      "\u001b[1;31mJSONDecodeError\u001b[0m                           Traceback (most recent call last)",
      "\u001b[1;32m<ipython-input-66-d53956fb42cb>\u001b[0m in \u001b[0;36m<module>\u001b[1;34m\u001b[0m\n\u001b[0;32m     21\u001b[0m     \u001b[1;31m# print(url_num)\u001b[0m\u001b[1;33m\u001b[0m\u001b[1;33m\u001b[0m\u001b[0m\n\u001b[0;32m     22\u001b[0m     \u001b[0mresponse_company\u001b[0m \u001b[1;33m=\u001b[0m \u001b[0mrequests\u001b[0m\u001b[1;33m.\u001b[0m\u001b[0mget\u001b[0m\u001b[1;33m(\u001b[0m\u001b[0murl_num\u001b[0m\u001b[1;33m)\u001b[0m\u001b[1;33m\u001b[0m\u001b[0m\n\u001b[1;32m---> 23\u001b[1;33m     \u001b[0myour_json\u001b[0m \u001b[1;33m=\u001b[0m \u001b[0mresponse_company\u001b[0m\u001b[1;33m.\u001b[0m\u001b[0mjson\u001b[0m\u001b[1;33m(\u001b[0m\u001b[1;33m)\u001b[0m\u001b[1;33m\u001b[0m\u001b[0m\n\u001b[0m\u001b[0;32m     24\u001b[0m \u001b[1;31m#     pretty = pprint.pprint(your_json)\u001b[0m\u001b[1;33m\u001b[0m\u001b[1;33m\u001b[0m\u001b[0m\n\u001b[0;32m     25\u001b[0m \u001b[1;33m\u001b[0m\u001b[0m\n",
      "\u001b[1;32mc:\\users\\josh\\appdata\\local\\programs\\python\\python37-32\\lib\\site-packages\\requests\\models.py\u001b[0m in \u001b[0;36mjson\u001b[1;34m(self, **kwargs)\u001b[0m\n\u001b[0;32m    895\u001b[0m                     \u001b[1;31m# used.\u001b[0m\u001b[1;33m\u001b[0m\u001b[1;33m\u001b[0m\u001b[0m\n\u001b[0;32m    896\u001b[0m                     \u001b[1;32mpass\u001b[0m\u001b[1;33m\u001b[0m\u001b[0m\n\u001b[1;32m--> 897\u001b[1;33m         \u001b[1;32mreturn\u001b[0m \u001b[0mcomplexjson\u001b[0m\u001b[1;33m.\u001b[0m\u001b[0mloads\u001b[0m\u001b[1;33m(\u001b[0m\u001b[0mself\u001b[0m\u001b[1;33m.\u001b[0m\u001b[0mtext\u001b[0m\u001b[1;33m,\u001b[0m \u001b[1;33m**\u001b[0m\u001b[0mkwargs\u001b[0m\u001b[1;33m)\u001b[0m\u001b[1;33m\u001b[0m\u001b[0m\n\u001b[0m\u001b[0;32m    898\u001b[0m \u001b[1;33m\u001b[0m\u001b[0m\n\u001b[0;32m    899\u001b[0m     \u001b[1;33m@\u001b[0m\u001b[0mproperty\u001b[0m\u001b[1;33m\u001b[0m\u001b[0m\n",
      "\u001b[1;32mc:\\users\\josh\\appdata\\local\\programs\\python\\python37-32\\lib\\json\\__init__.py\u001b[0m in \u001b[0;36mloads\u001b[1;34m(s, encoding, cls, object_hook, parse_float, parse_int, parse_constant, object_pairs_hook, **kw)\u001b[0m\n\u001b[0;32m    346\u001b[0m             \u001b[0mparse_int\u001b[0m \u001b[1;32mis\u001b[0m \u001b[1;32mNone\u001b[0m \u001b[1;32mand\u001b[0m \u001b[0mparse_float\u001b[0m \u001b[1;32mis\u001b[0m \u001b[1;32mNone\u001b[0m \u001b[1;32mand\u001b[0m\u001b[1;33m\u001b[0m\u001b[0m\n\u001b[0;32m    347\u001b[0m             parse_constant is None and object_pairs_hook is None and not kw):\n\u001b[1;32m--> 348\u001b[1;33m         \u001b[1;32mreturn\u001b[0m \u001b[0m_default_decoder\u001b[0m\u001b[1;33m.\u001b[0m\u001b[0mdecode\u001b[0m\u001b[1;33m(\u001b[0m\u001b[0ms\u001b[0m\u001b[1;33m)\u001b[0m\u001b[1;33m\u001b[0m\u001b[0m\n\u001b[0m\u001b[0;32m    349\u001b[0m     \u001b[1;32mif\u001b[0m \u001b[0mcls\u001b[0m \u001b[1;32mis\u001b[0m \u001b[1;32mNone\u001b[0m\u001b[1;33m:\u001b[0m\u001b[1;33m\u001b[0m\u001b[0m\n\u001b[0;32m    350\u001b[0m         \u001b[0mcls\u001b[0m \u001b[1;33m=\u001b[0m \u001b[0mJSONDecoder\u001b[0m\u001b[1;33m\u001b[0m\u001b[0m\n",
      "\u001b[1;32mc:\\users\\josh\\appdata\\local\\programs\\python\\python37-32\\lib\\json\\decoder.py\u001b[0m in \u001b[0;36mdecode\u001b[1;34m(self, s, _w)\u001b[0m\n\u001b[0;32m    335\u001b[0m \u001b[1;33m\u001b[0m\u001b[0m\n\u001b[0;32m    336\u001b[0m         \"\"\"\n\u001b[1;32m--> 337\u001b[1;33m         \u001b[0mobj\u001b[0m\u001b[1;33m,\u001b[0m \u001b[0mend\u001b[0m \u001b[1;33m=\u001b[0m \u001b[0mself\u001b[0m\u001b[1;33m.\u001b[0m\u001b[0mraw_decode\u001b[0m\u001b[1;33m(\u001b[0m\u001b[0ms\u001b[0m\u001b[1;33m,\u001b[0m \u001b[0midx\u001b[0m\u001b[1;33m=\u001b[0m\u001b[0m_w\u001b[0m\u001b[1;33m(\u001b[0m\u001b[0ms\u001b[0m\u001b[1;33m,\u001b[0m \u001b[1;36m0\u001b[0m\u001b[1;33m)\u001b[0m\u001b[1;33m.\u001b[0m\u001b[0mend\u001b[0m\u001b[1;33m(\u001b[0m\u001b[1;33m)\u001b[0m\u001b[1;33m)\u001b[0m\u001b[1;33m\u001b[0m\u001b[0m\n\u001b[0m\u001b[0;32m    338\u001b[0m         \u001b[0mend\u001b[0m \u001b[1;33m=\u001b[0m \u001b[0m_w\u001b[0m\u001b[1;33m(\u001b[0m\u001b[0ms\u001b[0m\u001b[1;33m,\u001b[0m \u001b[0mend\u001b[0m\u001b[1;33m)\u001b[0m\u001b[1;33m.\u001b[0m\u001b[0mend\u001b[0m\u001b[1;33m(\u001b[0m\u001b[1;33m)\u001b[0m\u001b[1;33m\u001b[0m\u001b[0m\n\u001b[0;32m    339\u001b[0m         \u001b[1;32mif\u001b[0m \u001b[0mend\u001b[0m \u001b[1;33m!=\u001b[0m \u001b[0mlen\u001b[0m\u001b[1;33m(\u001b[0m\u001b[0ms\u001b[0m\u001b[1;33m)\u001b[0m\u001b[1;33m:\u001b[0m\u001b[1;33m\u001b[0m\u001b[0m\n",
      "\u001b[1;32mc:\\users\\josh\\appdata\\local\\programs\\python\\python37-32\\lib\\json\\decoder.py\u001b[0m in \u001b[0;36mraw_decode\u001b[1;34m(self, s, idx)\u001b[0m\n\u001b[0;32m    353\u001b[0m             \u001b[0mobj\u001b[0m\u001b[1;33m,\u001b[0m \u001b[0mend\u001b[0m \u001b[1;33m=\u001b[0m \u001b[0mself\u001b[0m\u001b[1;33m.\u001b[0m\u001b[0mscan_once\u001b[0m\u001b[1;33m(\u001b[0m\u001b[0ms\u001b[0m\u001b[1;33m,\u001b[0m \u001b[0midx\u001b[0m\u001b[1;33m)\u001b[0m\u001b[1;33m\u001b[0m\u001b[0m\n\u001b[0;32m    354\u001b[0m         \u001b[1;32mexcept\u001b[0m \u001b[0mStopIteration\u001b[0m \u001b[1;32mas\u001b[0m \u001b[0merr\u001b[0m\u001b[1;33m:\u001b[0m\u001b[1;33m\u001b[0m\u001b[0m\n\u001b[1;32m--> 355\u001b[1;33m             \u001b[1;32mraise\u001b[0m \u001b[0mJSONDecodeError\u001b[0m\u001b[1;33m(\u001b[0m\u001b[1;34m\"Expecting value\"\u001b[0m\u001b[1;33m,\u001b[0m \u001b[0ms\u001b[0m\u001b[1;33m,\u001b[0m \u001b[0merr\u001b[0m\u001b[1;33m.\u001b[0m\u001b[0mvalue\u001b[0m\u001b[1;33m)\u001b[0m \u001b[1;32mfrom\u001b[0m \u001b[1;32mNone\u001b[0m\u001b[1;33m\u001b[0m\u001b[0m\n\u001b[0m\u001b[0;32m    356\u001b[0m         \u001b[1;32mreturn\u001b[0m \u001b[0mobj\u001b[0m\u001b[1;33m,\u001b[0m \u001b[0mend\u001b[0m\u001b[1;33m\u001b[0m\u001b[0m\n",
      "\u001b[1;31mJSONDecodeError\u001b[0m: Expecting value: line 1 column 1 (char 0)"
     ]
    }
   ],
   "source": [
    "import requests\n",
    "import json\n",
    "import pprint\n",
    "import datetime\n",
    "\n",
    "## NAME IS SEARCH VARIABLE\n",
    "## TODAY IS SETTING A GLOBAL TIME VARIABLE FOR NOW\n",
    "name = \"muse\"\n",
    "today = datetime.datetime.now()\n",
    "\n",
    "## DOING A BASIC API REQUEST IN ORDER TO DETERMINE THE TOTAL NUMBER OF RESULTS FOR THIS REQUEST\n",
    "url_num = \"https://4cQ10i70oDMnmWrJKB6QnHNEgU8enNwgw4zNLegU:@api.companieshouse.gov.uk/search/companies?q=\"+name\n",
    "response_company = requests.get(url_num)\n",
    "your_json = response_company.json()\n",
    "total = (your_json[\"total_results\"])\n",
    "# total = 800  ## USE THIS FOR TESTING IF REPONSE NUMBER IS TOO LARGE\n",
    "print(total)\n",
    "\n",
    "## ITERATE THROUGH THE REPONSE AND TRY TO GO THROUGH ALL PAGES OF THE RESPONSE\n",
    "## ALSO GOT THE ABILITY TO PRINT AND PRETTY PRINT THE RESPONSE IF YOU JUST WANT TO VIEW THE DATA\n",
    "for i in range(1, total+1, 100):\n",
    "    i = str(i)\n",
    "    url_num = \"https://4cQ10i70oDMnmWrJKB6QnHNEgU8enNwgw4zNLegU:@api.companieshouse.gov.uk/search/companies?q=\"+name+\"&items_per_page=300&start_index=\"+i\n",
    "    # print(url_num)\n",
    "    response_company = requests.get(url_num)\n",
    "    your_json = response_company.json()\n",
    "#     pretty = pprint.pprint(your_json)\n",
    "\n",
    "## CREATING EMPTY LISTS TO STORE VARIOUS REPONSE PARAMETERS\n",
    "    numbers = []\n",
    "    names = []\n",
    "    dates = []\n",
    "    days = []\n",
    "    \n",
    "## ITERATING THROUGH THE RESPONSES AND STORING THE COMPANY NUMBER, NAME, DATE OF CREATION AND STORING THEM IN THE LISTS ABOVE\n",
    "    for i in (your_json[\"items\"]):\n",
    "        numbers.append(i[\"company_number\"])\n",
    "\n",
    "    for i in (your_json[\"items\"]):\n",
    "        names.append(i[\"title\"])\n",
    "\n",
    "    for i in (your_json[\"items\"]):\n",
    "        dates.append(i[\"date_of_creation\"])\n",
    "\n",
    "## ZIPPING THE NAMES AND DATES AND CREATING A DICTIONARY OF KEY VALUE PAIRS\n",
    "    name_dates = dict(zip(names, dates))\n",
    "#     pprint.pprint(name_dates)\n",
    "\n",
    "## USE THESE FOR TESTING/VIEWING THE KEY VALUE PAIRS\n",
    "#     for i in name_dates:\n",
    "#         print(name_dates[i])\n",
    "\n",
    "## ITERATE THROUGH THE NAME_DATES DICT AND (WITH A BIT OF UGLY FORMATTING) PRINT THE NAME AND DATE OF CREATION FOR COMPANIES CREATED < X DAYS AGO\n",
    "    for i in name_dates:\n",
    "        if name_dates[i] is None:\n",
    "            pass\n",
    "        else:\n",
    "            date_of_c = datetime.datetime.strptime(name_dates[i], \"%Y-%m-%d\")\n",
    "            f_date = date_of_c\n",
    "            l_date = today\n",
    "            delta = l_date - f_date  \n",
    "\n",
    "            if delta.days < 100:\n",
    "                print(i, \",\", name_dates[i])\n",
    "\n",
    "## CURRENTLY HAVE THE ABILITY TO VIEW A SHORTENED LIST OF NAMES AND DATES OF CREATION FOR COMPANIES CREATED LESS THAN X DAYS AGO\n",
    "\n",
    "## 2 ISSUES LEFT\n",
    "## NEED TO GET A FULL LIST OF COMPANIES FROM SEARCH\n",
    "## NEED TO GET A FULL LIST OF ALL COMPANIES"
   ]
  }
 ],
 "metadata": {
  "kernelspec": {
   "display_name": "Python 3",
   "language": "python",
   "name": "python3"
  },
  "language_info": {
   "codemirror_mode": {
    "name": "ipython",
    "version": 3
   },
   "file_extension": ".py",
   "mimetype": "text/x-python",
   "name": "python",
   "nbconvert_exporter": "python",
   "pygments_lexer": "ipython3",
   "version": "3.7.0"
  }
 },
 "nbformat": 4,
 "nbformat_minor": 2
}
