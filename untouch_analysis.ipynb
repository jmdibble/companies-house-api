{
 "cells": [
  {
   "cell_type": "code",
   "execution_count": null,
   "metadata": {},
   "outputs": [],
   "source": [
    "import pandas as pd\n",
    "import numpy as np\n",
    "import dask.dataframe as dd\n",
    "from datetime import datetime\n",
    "import operator\n",
    "\n",
    "today = datetime.now().date()\n",
    "# print(today)\n",
    "\n",
    "with open (\"untouched.csv\", \"r\") as csv_file:\n",
    "    next(csv_file)\n",
    "    csv_reader = csv.reader(csv_file, delimiter=',')\n",
    "    for i in csv_reader:\n",
    "#         print(i[14])\n",
    "        converted = datetime.strptime(i[14], \"%d/%m/%Y\").date()\n",
    "#         print(converted)\n",
    "        delta = today - converted\n",
    "        if delta.days < 100:\n",
    "            print(i[0], \",\", i[1], \",\", i[14])\n",
    "    "
   ]
  }
 ],
 "metadata": {
  "kernelspec": {
   "display_name": "Python 3",
   "language": "python",
   "name": "python3"
  },
  "language_info": {
   "codemirror_mode": {
    "name": "ipython",
    "version": 3
   },
   "file_extension": ".py",
   "mimetype": "text/x-python",
   "name": "python",
   "nbconvert_exporter": "python",
   "pygments_lexer": "ipython3",
   "version": "3.7.0"
  }
 },
 "nbformat": 4,
 "nbformat_minor": 2
}
